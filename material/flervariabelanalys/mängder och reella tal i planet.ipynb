{
 "metadata": {
  "language_info": {
   "codemirror_mode": {
    "name": "ipython",
    "version": 3
   },
   "file_extension": ".py",
   "mimetype": "text/x-python",
   "name": "python",
   "nbconvert_exporter": "python",
   "pygments_lexer": "ipython3",
   "version": "3.9.0-final"
  },
  "orig_nbformat": 2,
  "kernelspec": {
   "name": "python3",
   "display_name": "Python 3.9.0 64-bit",
   "metadata": {
    "interpreter": {
     "hash": "97c078bb59c1c10733c0d564950d16204bc804be1ea5fba30011a5833c5493e2"
    }
   }
  }
 },
 "nbformat": 4,
 "nbformat_minor": 2,
 "cells": [
  {
   "source": [
    "# Mängder och reella tal i planet\n",
    "## Mängder\n",
    "Mängder, tillsammans med logik, är i matematiken några av de delar som är närmast filosofin. Det mängdlära handlar om är att beskriva hur tal relaterar till varandra. Vi kommer främst att titta på mängder från talteorin och inte så djupt om mer abstrakta matematiska mängder, även om vi tar en liten titt på det nu i början. Detta är ett område man kan gå väldigt djupt inom. "
   ],
   "cell_type": "markdown",
   "metadata": {}
  },
  {
   "source": [
    "### Inledande terminologi och grundläggande mängder\n",
    "En mängd är en samling *element*. Ett element kan vara vad som helst, men gärna så ska de följa regler. Några exempel på mängder är alla mentorer på Intize, alla era klasskompisar eller grönsakerna i kylskåpet. Man kan säga att reglerna som gäller för dessa tre mängder är \"att man ska vara mentor på Intize\", \"gå i eran klass\" eller \"vara en grönsak och i kylskåpet.\"\n",
    "\n",
    "Den mest grundläggande mängden vi kommer att titta på är de naturliga talen. De skrivs $\\mathbb{N}$ och avser alla positiva hela tal, det vill säga $0, 1, 2, 3, $ osv. Man kan även skriva mängden på detta sätt\n",
    "\n",
    "$$\n",
    "\\mathbb{N} = \\{ 0, 1, 2, 3, ... \\}\n",
    "$$\n",
    "\n",
    "Där $...$ betyder att det fortsätter på samma sätt för evigt. $\\{\\}$ kallas mängdklamrar och innanför dem så har vi beskrivit de naturliga talen med hjälp av uppräkning. $\\mathbb{N}$ är för att de är *naturliga*. \n",
    "\n",
    "Heltalen definierar man med uppräkning såhär:\n",
    "\n",
    "$$\n",
    "\\mathbb{Z} = \\{ ..., -2, -1, 0, 1, 2, ... \\}\n",
    "$$\n",
    "\n",
    "Man har valt $\\mathbb{Z}$ från det tyska ordet \"Zahl\", som betyder tal. \n",
    "\n",
    "Innan vi tittar på de rationella talen så vill jag introducera idén att ett tal finns i en mängd. Det skriver man såhär: $a \\in \\mathbb{M}$ där $a$ är ett så kallat *element* och $\\mathbb{M}$ är en mängd. \n",
    "\n",
    "Några exempel: \n",
    "\n",
    "\\begin{align*}\n",
    "    1 \\in \\mathbb{N} & \\text{ = 1 är i de naturliga talen} \\\\\n",
    "    -6 \\in \\mathbb{Z} & \\text{ = -6 finns i heltalen }\\\\\n",
    "    0.5 \\not\\in \\mathbb{Z} & \\text{ = 0.5 är inte ett heltal }\n",
    "\\end{align*}\n",
    "\n",
    "Nu har vi verktygen vi vill ha för att beskriva de rationella talen. Ett rationellt tal är som exempel $1/2$ eller $\\frac{53}{21}$. Det vill säga, vi kan skriva ett rationellt tal som kvoten av två heltal $a$ och $b$ som sådant: $a/b$ eller $\\frac{a}{b}$. Vill vi skriva alla rationella tal så använder vi deras symbol, $\\mathbb{Q}$, som står för \"quotient\" eller kvot, och sedan vilka egenskaper de ska ha:\n",
    "\n",
    "$$\n",
    "\\mathbb{Q} = \\{ \\frac{a}{b} \\mid a,b \\in \\mathbb{Z} \\}\n",
    "$$\n",
    "\n",
    "Här säger vi att mängden $\\mathbb{Q}$ är detsamma som kvoten av alla tal $a$ och $b$ som är heltal. $\\mid$-symbolen betyder \"så att\" och man kan läsa uttrycket som \"de rationella talen är kvoten av alla tal a och b, så att a och b båda tillhör heltalen\". \n",
    "\n",
    "#### Introducerande uppgifter till grundläggande mängder\n",
    "Tanken är inte att ni ska bemästra dessa uppgifter, utan att ni ska få en introduktion till hur man tänker så att det blir lättare att följa när vi går igenom dem. Det är alltid bra att tänka en stund själv innan man släpper något eller ber om hjälp men det är ingen fara om det skulle kännas för svårt. "
   ],
   "cell_type": "markdown",
   "metadata": {}
  },
  {
   "source": [
    "### Delmängder\n",
    "Led in till något om reella tal. \n",
    "\n",
    "#### Uppgifter om delmängder"
   ],
   "cell_type": "markdown",
   "metadata": {}
  },
  {
   "source": [
    "### Några fler symboler\n",
    "\n",
    "Skriv något om union, snitt, mängddifferens, komplement med mera. \n",
    "\n",
    "#### Extrauppgifter för den arbetsvillige"
   ],
   "cell_type": "markdown",
   "metadata": {}
  },
  {
   "source": [
    "\n",
    "## Reella tal\n",
    "\n",
    "Diskussion om bland annat tallinjen\n"
   ],
   "cell_type": "markdown",
   "metadata": {}
  },
  {
   "source": [
    "## Planet och $\\mathbb{R}^2$\n"
   ],
   "cell_type": "markdown",
   "metadata": {}
  },
  {
   "source": [
    "\n",
    "### Rummet och $\\mathbb{R}^3$ samt fler dimensioner\n"
   ],
   "cell_type": "markdown",
   "metadata": {}
  },
  {
   "source": [
    "Författad av Edvin Avekvist, februari 2021. \n",
    "\n",
    "Senast uppdaterad: 11/02-2021"
   ],
   "cell_type": "markdown",
   "metadata": {}
  }
 ]
}